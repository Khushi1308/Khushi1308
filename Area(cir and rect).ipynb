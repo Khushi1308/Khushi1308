{
  "nbformat": 4,
  "nbformat_minor": 0,
  "metadata": {
    "colab": {
      "name": "Untitled3.ipynb",
      "provenance": [],
      "authorship_tag": "ABX9TyMo6ohkkCUQF3b8umBGrMIl",
      "include_colab_link": true
    },
    "kernelspec": {
      "name": "python3",
      "display_name": "Python 3"
    },
    "language_info": {
      "name": "python"
    }
  },
  "cells": [
    {
      "cell_type": "markdown",
      "metadata": {
        "id": "view-in-github",
        "colab_type": "text"
      },
      "source": [
        "<a href=\"https://colab.research.google.com/github/Khushi1308/Khushi1308/blob/main/Area(cir%20and%20rect).ipynb\" target=\"_parent\"><img src=\"https://colab.research.google.com/assets/colab-badge.svg\" alt=\"Open In Colab\"/></a>"
      ]
    },
    {
      "cell_type": "code",
      "metadata": {
        "colab": {
          "base_uri": "https://localhost:8080/"
        },
        "id": "3JyItGy3sF5O",
        "outputId": "d43abd33-7384-4038-e8b6-ba84ea700fc9"
      },
      "source": [
        "length=int(input(\"enter length of rectangle: \"))\n",
        "breadth=int(input(\"enter breadth of rectangle: \"))\n",
        "radius=int(input(\"enter radius of circle: \"))\n",
        "area=length*breadth\n",
        "area_cir=3.14*radius*radius\n",
        "print(\"area of circle = \" , area_cir)\n",
        "print(\"area of rectangle = \" , area)"
      ],
      "execution_count": null,
      "outputs": [
        {
          "output_type": "stream",
          "text": [
            "enter length of rectangle: 10\n",
            "enter breadth of rectangle: 4\n",
            "enter radius of circle: 7\n",
            "area of circle =  153.86\n",
            "area of rectangle =  40\n"
          ],
          "name": "stdout"
        }
      ]
    }
  ]
}