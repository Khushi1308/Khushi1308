{
  "nbformat": 4,
  "nbformat_minor": 0,
  "metadata": {
    "colab": {
      "name": "Untitled4.ipynb",
      "provenance": [],
      "authorship_tag": "ABX9TyMusadneHg+SmwMN6iWoXHU",
      "include_colab_link": true
    },
    "kernelspec": {
      "name": "python3",
      "display_name": "Python 3"
    },
    "language_info": {
      "name": "python"
    }
  },
  "cells": [
    {
      "cell_type": "markdown",
      "metadata": {
        "id": "view-in-github",
        "colab_type": "text"
      },
      "source": [
        "<a href=\"https://colab.research.google.com/github/Khushi1308/Khushi1308/blob/main/Untitled4.ipynb\" target=\"_parent\"><img src=\"https://colab.research.google.com/assets/colab-badge.svg\" alt=\"Open In Colab\"/></a>"
      ]
    },
    {
      "cell_type": "code",
      "metadata": {
        "colab": {
          "base_uri": "https://localhost:8080/"
        },
        "id": "vr7geKAtSk7Y",
        "outputId": "67f7459e-c7f2-4436-d0ce-7ceebd071742"
      },
      "source": [
        "C=int(input(\"Enter the temperature in °C: \"))\n",
        "F=C*1.8+32\n",
        "print(\"The temperature in degree Fahrenheit = \" ,F )\n",
        "f=int(input(\"Enter the temperature in °F :\"))\n",
        "c=(f-32)*0.55\n",
        "print(\"The temperature in degree Celsius = \" , c)\n"
      ],
      "execution_count": null,
      "outputs": [
        {
          "output_type": "stream",
          "text": [
            "Enter the temperature in °C: 45\n",
            "The temperature in degree Fahrenheit =  113.0\n",
            "Enter the temperature in °F :96\n",
            "The temperature in degree Celsius =  35.2\n"
          ],
          "name": "stdout"
        }
      ]
    },
    {
      "cell_type": "markdown",
      "metadata": {
        "id": "M4MDh_MXT1IP"
      },
      "source": [
        ""
      ]
    }
  ]
}